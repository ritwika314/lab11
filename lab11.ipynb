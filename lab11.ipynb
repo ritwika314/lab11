{
 "cells": [
  {
   "cell_type": "markdown",
   "metadata": {},
   "source": [
    "\n",
    "\n",
    "This is a partnered lab.\n"
   ]
  },
  {
   "cell_type": "markdown",
   "metadata": {},
   "source": [
    "Your TAs have been playing tetris all semester to amuse themselves. As of this week, they decided that they need a new challenge and decided to write a command line version of minesweeper. They managed to write some of it, but need your help to finish the rest. So for this lab, you will be implementing a command line version of Minesweeper. \n",
    "\n",
    "\n",
    "<img src=\"1djqq2.jpg\" width=\"300\">\n"
   ]
  },
  {
   "cell_type": "markdown",
   "metadata": {
    "collapsed": false
   },
   "source": [
    "You will need only two modules for this : string and random. You should already be familiar with the string module. The random module implements pseudo-random number generators for various distributions.\n",
    "\n"
   ]
  },
  {
   "cell_type": "code",
   "execution_count": null,
   "metadata": {
    "collapsed": true
   },
   "outputs": [],
   "source": [
    "import string\n",
    "import random"
   ]
  },
  {
   "cell_type": "markdown",
   "metadata": {},
   "source": [
    "### About Minesweeper\n",
    "You are given a mine as a grid, which is a 2-dimensional list. When you type in a cell, you see its contents or uncover it. Initially, all cells are covered. \n",
    "\n",
    "#### Rules : \n",
    "\n",
    "- Uncover a mine, and the game ends.\n",
    "- Uncover an empty square, and you keep playing.\n",
    "- Uncover a number, and it tells you how many mines lay hidden in its surrounding squares—information you use to deduce which nearby squares are safe to click.\n",
    "- If you are not sure about a square, you can flag it. If at some point, the only covered squares are flagged, then that means you have uncovered all mine free squares and have won the game. \n",
    "\n",
    "Here is an image to demonstrate : The squares marked 3 have mines in 3 of their neighboring squares, squares marked 1 have a mine in one of their neighboring squares, etc. \n",
    "\n",
    "\n",
    "<img src=\"minesweeper.jpg\" width=\"200\">\n",
    "\n",
    "\n",
    "\n",
    "To make things simple, the cell you type in first can never contain a mine. \n",
    "\n"
   ]
  },
  {
   "cell_type": "markdown",
   "metadata": {},
   "source": [
    "We will build the game incrementally. You will first write a function that returns the neighbors of a given square. Each square is represented as $(a,b)$ where $a$ is the row number, and $b$ is the column number of the square. The minefield is called grid, which is a 2d list. The row number and column number of the square along with the grid are passed to the function `getneighbors` which returns a list of the neighbors of the given square. \n",
    "\n",
    "\n"
   ]
  },
  {
   "cell_type": "code",
   "execution_count": null,
   "metadata": {
    "collapsed": true
   },
   "outputs": [],
   "source": [
    "def getneighbors(grid,rowno,colno):\n",
    "    #compute the size of the grid. We assume that both dimensions are equal. \n",
    " \n",
    "    #create a list to store the neighboring squares\n",
    "\n",
    "    #compute the squares around the square with given rowno and colno, and add it to the list of neighbors. \n",
    "    #Use a loop for the row range\n",
    "    \n",
    "        # Another loop for column range\n",
    "        \n",
    "            #Don't include the current (rowno,colno)\n",
    "            \n",
    "            #Check if the coordinate is in the range of grid\n",
    "                \n",
    "    #return the list of neighbors as a list of tuples (rowno,colno). \n",
    "        "
   ]
  },
  {
   "cell_type": "code",
   "execution_count": null,
   "metadata": {
    "collapsed": false
   },
   "outputs": [],
   "source": [
    "#test cell \n",
    "#add test to count number of neighbours of a boundary square\n",
    "a = [[' ' for i in range(5)] for i in range(5)]\n",
    "assert(len(getneighbors(a,0,0)) == 3 and len(getneighbors(a,1,1)) == 8)\n",
    "print (\"Success!\")"
   ]
  },
  {
   "cell_type": "markdown",
   "metadata": {},
   "source": [
    "We wrote a function to display a given grid, so you dont have to worry about displaying your grid . Use the following function `showgrid` which just takes a 2d list as input . "
   ]
  },
  {
   "cell_type": "code",
   "execution_count": null,
   "metadata": {
    "collapsed": false
   },
   "outputs": [],
   "source": [
    "import sys\n",
    "def showgrid(grid):\n",
    "    sys.stderr.write(\"\\x1b[2J\\x1b[H\")\n",
    "\n",
    "    gridsize = len(grid)\n",
    "    horizontal = '   '+4*gridsize*'-'+'-'\n",
    "    # Print top column letters\n",
    "    toplabel = '     '\n",
    "    for i in string.ascii_lowercase[:gridsize]:\n",
    "        toplabel = toplabel+i+'   '\n",
    "    print ('\\n'+toplabel+'\\n'+horizontal)\n",
    "    # Print left row numbers\n",
    "    for idx,i in enumerate(grid):\n",
    "        row = '{0:2} |'.format(idx+1)\n",
    "        for j in i:\n",
    "            row = row+' '+j+' |'\n",
    "        print (row+'\\n'+horizontal)\n",
    "    print ('')\n",
    "\n",
    "#creating an empty grid to demonstrate. \n",
    "emptygrid = [[' ' for i in range(10)] for i in range(10)]\n",
    "showgrid(emptygrid)"
   ]
  },
  {
   "cell_type": "markdown",
   "metadata": {},
   "source": [
    "\n",
    "Since the mines will be random, you need to write a function which takes the grid as input, to return a random square, or a tuple $(x,y)$ where $x$ and $y$ are random numbers within the size of the grid. Take a look at [random.randint](https://docs.python.org/2/library/random.html#random.randint). Use it to generate a random number for your tuple."
   ]
  },
  {
   "cell_type": "code",
   "execution_count": null,
   "metadata": {
    "collapsed": true
   },
   "outputs": [],
   "source": [
    "def getrandomsquare(grid):\n",
    "    #compute the size of the grid\n",
    "    \n",
    "    #generate numbers using randint. \n",
    "   \n",
    "    #return square as a tuple \n",
    " "
   ]
  },
  {
   "cell_type": "code",
   "execution_count": null,
   "metadata": {
    "collapsed": false
   },
   "outputs": [],
   "source": [
    "#test cell\n",
    "#write test to check that a and b are from [0,len(grid)-1]\n",
    "#this is not an exhaustive test\n",
    "a,b = getrandomsquare([[' ' for i in range(10)] for i in range(10)])\n",
    "assert((a <= 9 and a >=0) and (b <=9 and b >=0 ))\n",
    "print(\"Success!\")"
   ]
  },
  {
   "cell_type": "markdown",
   "metadata": {},
   "source": [
    "Recall that we do not want the first uncovered square to contain mines. So we will generate mines only after the first square has been provided by the user. \n",
    "You will now write a function `generatemines`, which takes as input the grid, the starting square, and the number of mines to be placed on the grid. We will use the function `getrandomsquare` to determine where to place each mine. \n",
    "The function will accept three parameters, the <b>grid</b> as a 2D list, <b>start</b> as a tuple of (rowno, colno) that the user clicks first, and <b>numberofmines</b>, the total number of mines needed to be generated. The function should return the list of squares on which we place the mines, also modify the grid by marking each such square with 'X'. "
   ]
  },
  {
   "cell_type": "code",
   "execution_count": null,
   "metadata": {
    "collapsed": true
   },
   "outputs": [],
   "source": [
    "# Generate mines\n",
    "def generatemines(grid,start,numberofmines):\n",
    "    #compute grid size\n",
    "\n",
    "    \n",
    "    #create empty list for storing mines\n",
    "\n",
    "    #Loop until you 'place' all mines:\n",
    "    \n",
    "        #place mine in a random square\n",
    "        \n",
    "        #check that it is not the start square\n",
    "        #check that it doesn't have a mine already\n",
    "        #if any of these fails, you should generate another UNTIL both of them pass\n",
    "    \n",
    "    \n",
    "    #assign each square containing a mine 'X' in the grid. \n",
    "    \n",
    "    #return the list of mines\n",
    "    \n",
    " "
   ]
  },
  {
   "cell_type": "code",
   "execution_count": null,
   "metadata": {
    "collapsed": false
   },
   "outputs": [],
   "source": [
    "#test cell \n",
    "#count the number of x's in a grid and check that the start cell is not an x. \n",
    "a = [[' ' for i in range(10)] for i in range(10)]\n",
    "mines = generatemines(a,(0,0),10)\n",
    "assert(len(mines) == 10 and a[0][0]!= 'X')\n",
    "print('success!')"
   ]
  },
  {
   "cell_type": "markdown",
   "metadata": {},
   "source": [
    "We want you to now write a function to compute the number of mines in each square's neighbors. We call this function `getnumbers`. "
   ]
  },
  {
   "cell_type": "code",
   "execution_count": null,
   "metadata": {
    "collapsed": true
   },
   "outputs": [],
   "source": [
    "def getnumbers(grid):\n",
    "    #get grid size\n",
    "    \n",
    "    #loop over each square in the grid. \n",
    "\n",
    "        #if the square is not a mine \n",
    "\n",
    "            # Gets the values of the neighbors\n",
    "\n",
    "            # Counts how many are mines\n",
    "\n"
   ]
  },
  {
   "cell_type": "code",
   "execution_count": null,
   "metadata": {
    "collapsed": false
   },
   "outputs": [],
   "source": [
    "#testcell \n",
    "#given a cell number, count the number of mines around it and check if its equal to the number\n",
    "a = [[' ' for i in range(10)] for i in range(10)]\n",
    "mines = generatemines(a,(0,0),10)\n",
    "getnumbers(a)\n",
    "sum = 0\n",
    "for i in getneighbors(a,0,0):\n",
    "    sum+= int(a[i[0]][i[1]] == 'X')\n",
    "assert(int(a[0][0]) == sum)\n",
    "print(\"success!\")"
   ]
  },
  {
   "cell_type": "markdown",
   "metadata": {},
   "source": [
    "Given the size of the grid, the start cell, and the number of mines, we write a function `setupgrid` that sets up the minefield, and neighboring numbers of the mines. It returns the list of mines, and the grid as numbers for neighbours and Xs for mines.  \n",
    "\n"
   ]
  },
  {
   "cell_type": "code",
   "execution_count": null,
   "metadata": {
    "collapsed": true
   },
   "outputs": [],
   "source": [
    "def setupgrid(gridsize,start,numberofmines):\n",
    "    grid = [['0' for i in range(gridsize)] for i in range(gridsize)]\n",
    "    mines = generatemines(grid,start,numberofmines)\n",
    "    getnumbers(grid)\n",
    "    return (grid,mines)\n"
   ]
  },
  {
   "cell_type": "markdown",
   "metadata": {},
   "source": [
    "The next function is crucial. It is called `floodfill` because it will \"flood\" the minefield if its seen to be safe and stop when it encounters possible mines. When the user uncovers a square which has no mines, it should uncover all neighboring squares with no mines. It should continue this process untill it encounters squares with non zero mines in their neighboring cells. \n"
   ]
  },
  {
   "cell_type": "code",
   "execution_count": null,
   "metadata": {
    "collapsed": false
   },
   "outputs": [],
   "source": [
    "#initially no squares are checked \n",
    "def floodfill(grid,currgrid,rowno,colno,visited=[]):\n",
    "\n",
    "    if currgrid[rowno][colno] != ' ':\n",
    "        return\n",
    "\n",
    "    # Show current cell\n",
    "    currgrid[rowno][colno] = grid[rowno][colno]\n",
    "\n",
    "    # Get the neighbors if the cell is empty\n",
    "    if grid[rowno][colno] == '0':\n",
    "        for r, c in getneighbors(grid, rowno, colno):\n",
    "            \n",
    "            # Repeat function for each neighbor that doesn't have a flag\n",
    "            if currgrid[r][c] != 'F':\n",
    "                visited.append((r,c))\n",
    "                floodfill(grid, currgrid, r, c,visited)"
   ]
  },
  {
   "cell_type": "markdown",
   "metadata": {},
   "source": [
    "\n",
    "\n",
    "The following function is used for playing the game \n",
    "\n",
    "- We assume gridsize is 5x5 and there are 6 mines. \n",
    "- The function continuously takes user input.\n",
    "- If the user input is \"help\" print the help message. \n",
    "- If the user input is am invalid cell, then print the invalid cell message. \n",
    "- setup the grid after processing the start cell. \n",
    "- If the user attempts to flag an empty cell, set it to \"F\", if the user flags a flagged cell, set it to empty, otherwise display flag error . \n",
    "- If the user types in the cell of a mine, show game over, call playagain. \n",
    "- If the user fills types a cell with no mines around it or on it, floodfill. **YOU WILL DECIDE WHERE TO CALL THIS FUNCTION** \n",
    "- If the flagged set is equal to the mines, end game with win message. \n",
    "\n",
    "\n",
    "\n",
    "\n"
   ]
  },
  {
   "cell_type": "code",
   "execution_count": null,
   "metadata": {
    "collapsed": false
   },
   "outputs": [],
   "source": [
    "def playgame():\n",
    "    numberofmines = 6\n",
    "    gridsize = 5\n",
    "    missing = 0\n",
    "\n",
    "    currgrid = [[' ' for i in range(gridsize)] for i in range(gridsize)]\n",
    "    showgrid(currgrid)\n",
    "    mines = []\n",
    "    grid = []\n",
    "    flags = []\n",
    "    helpmessage = \"\"\"Type the column followed by the row (eg. a5).To put or remove a flag, add 'f' to the cell (eg. a5f)\\n\"\"\"\n",
    "    print (helpmessage)\n",
    "\n",
    "    while True:\n",
    "        while True:\n",
    "            lastcell = str(input('Enter the cell ({} mines left): '.format(numberofmines-len(flags))))\n",
    "            print ('\\n\\n')\n",
    "            flag = False\n",
    "            try:\n",
    "                if lastcell[2] == 'f': flag = True\n",
    "            except IndexError: pass\n",
    " \n",
    "            try:\n",
    "                if lastcell == 'help':\n",
    "                    print (helpmessage)\n",
    "                else:\n",
    "                    lastcell = (int(lastcell[1])-1,string.ascii_lowercase.index(lastcell[0]))\n",
    "                    break\n",
    "            except (IndexError,ValueError):\n",
    "                #showgrid(currgrid)\n",
    "                print (\"Invalid cell.\",helpmessage)\n",
    " \n",
    "        if len(grid)==0:\n",
    "            grid,mines = setupgrid(gridsize,lastcell,numberofmines)\n",
    "        rowno,colno = lastcell\n",
    " \n",
    "\n",
    "    #FLOODFILL SOMEWHERE BELOW. Figure out where do you need to call it, and the arguments to floodfill. \n",
    "    \n",
    "        if flag:\n",
    "            # Add a flag if the cell is empty\n",
    "            if currgrid[rowno][colno]==' ':\n",
    "                currgrid[rowno][colno] = 'F'\n",
    "                flags.append((rowno,colno))\n",
    "            # Remove the flag if there is one\n",
    "            elif currgrid[rowno][colno]=='F':\n",
    "                currgrid[rowno][colno] = ' '\n",
    "                flags.remove((rowno,colno))\n",
    "            else: print ('Cannot put a flag there')\n",
    " \n",
    "        else:\n",
    "            # If there is a flag there, show a message\n",
    "            if (rowno,colno) in flags:\n",
    "                print ('There is a flag there')\n",
    "            else:\n",
    "                if grid[rowno][colno] == 'X':\n",
    "                    print ('Game Over\\n')\n",
    "                    showgrid(grid)\n",
    "                    return\n",
    "                \n",
    "        showgrid(currgrid)\n",
    " \n",
    "        if set(flags)==set(mines):\n",
    "            print ('You Win')\n",
    "playgame()\n"
   ]
  },
  {
   "cell_type": "markdown",
   "metadata": {},
   "source": [
    "Write the name of your collaborators in this cell : \n"
   ]
  }
 ],
 "metadata": {
  "anaconda-cloud": {},
  "kernelspec": {
   "display_name": "Python 2",
   "language": "python",
   "name": "python2"
  },
  "language_info": {
   "codemirror_mode": {
    "name": "ipython",
    "version": 2
   },
   "file_extension": ".py",
   "mimetype": "text/x-python",
   "name": "python",
   "nbconvert_exporter": "python",
   "pygments_lexer": "ipython2",
   "version": "2.7.12"
  }
 },
 "nbformat": 4,
 "nbformat_minor": 1
}
